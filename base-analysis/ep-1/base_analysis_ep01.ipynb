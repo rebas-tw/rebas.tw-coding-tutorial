{
  "nbformat": 4,
  "nbformat_minor": 0,
  "metadata": {
    "colab": {
      "provenance": []
    },
    "kernelspec": {
      "name": "python3",
      "display_name": "Python 3"
    },
    "language_info": {
      "name": "python"
    }
  },
  "cells": [
    {
      "cell_type": "markdown",
      "source": [
        "# 你好 Rebas"
      ],
      "metadata": {
        "id": "K8YTdGWCWlvA"
      }
    },
    {
      "cell_type": "code",
      "source": [
        "print(\"Hello Rebas\")"
      ],
      "metadata": {
        "colab": {
          "base_uri": "https://localhost:8080/"
        },
        "id": "zm5M8svKZMd0",
        "outputId": "feeed2bb-e08b-4627-c9d6-47abe2f53d8f"
      },
      "execution_count": null,
      "outputs": [
        {
          "output_type": "stream",
          "name": "stdout",
          "text": [
            "Hello Rebas\n"
          ]
        }
      ]
    },
    {
      "cell_type": "markdown",
      "source": [
        "### 變數（Variables）\n",
        "\n",
        "程式語法\n",
        "\n",
        "> 變數名稱 = 變數值\n",
        ">\n",
        "\n",
        "宣告變數名稱後放入變數值，程式會配置記憶體空間存放變數值\n",
        "\n",
        "可以使用變數進行計算，或是變數互相使用"
      ],
      "metadata": {
        "id": "vc7wbu1_7wMj"
      }
    },
    {
      "cell_type": "code",
      "execution_count": null,
      "metadata": {
        "id": "0Eh0VsIrqkD3",
        "outputId": "a47f8c3d-0097-4754-dfe4-5827320e9472",
        "colab": {
          "base_uri": "https://localhost:8080/"
        }
      },
      "outputs": [
        {
          "output_type": "stream",
          "name": "stdout",
          "text": [
            "1\n",
            "2\n",
            "2\n"
          ]
        }
      ],
      "source": [
        "a = 1\n",
        "b = 2\n",
        "print(a)\n",
        "print(a + 1)\n",
        "print(a * b)"
      ]
    },
    {
      "cell_type": "code",
      "source": [
        "a = a + 1\n",
        "print(a)"
      ],
      "metadata": {
        "colab": {
          "base_uri": "https://localhost:8080/"
        },
        "id": "ocS1U71dWhrb",
        "outputId": "60b8eaf4-bb2c-4632-86a0-6f6dbb675829"
      },
      "execution_count": null,
      "outputs": [
        {
          "output_type": "stream",
          "name": "stdout",
          "text": [
            "2\n"
          ]
        }
      ]
    },
    {
      "cell_type": "markdown",
      "source": [
        "### 型態（Types）\n",
        "\n",
        "Python 會根據變數值自動設定變數的型態，例如輸入數字就會是 `int` 或 `float` 如果是想存入文字內容就會是 `str` 字串。但注意字串需要使用 `'` , `\"` 包覆文字內容。ex: `\"Hello World\"` 。可以使用  `type()` 來知道變數的型態。其他還有更多型態像是 `list` 跟 `dictionary` 會在之後的篇章介紹"
      ],
      "metadata": {
        "id": "S0cn1Cib8A-m"
      }
    },
    {
      "cell_type": "code",
      "source": [
        "a = 1\n",
        "print(type(a))\n",
        "b = .1\n",
        "print(type(b))\n",
        "c = \"字串\"\n",
        "print(type(c))"
      ],
      "metadata": {
        "id": "ZGYTL8YnqoIn",
        "colab": {
          "base_uri": "https://localhost:8080/"
        },
        "outputId": "6d3b34d2-242f-4422-941d-b4c0a5d3ea7b"
      },
      "execution_count": null,
      "outputs": [
        {
          "output_type": "stream",
          "name": "stdout",
          "text": [
            "<class 'int'>\n",
            "<class 'float'>\n",
            "<class 'str'>\n"
          ]
        }
      ]
    },
    {
      "cell_type": "markdown",
      "source": [
        "### 註解（Comments）\n",
        "\n",
        "在撰寫程式碼的時候，我們可以使用註解在程式碼附近多加說明，讓之後可能其他維護者或是提醒未來重新看 code 的自己，更快瞭解這部分的程式碼是在表達什麼。就會像是在程式碼上的小筆記的感覺。使用 `#` 來完成單行註解，使用 `'''` 或 `\"\"\"` 來覆蓋多行程式碼來完成多行註解"
      ],
      "metadata": {
        "id": "FV3oIZeH8kpv"
      }
    },
    {
      "cell_type": "code",
      "source": [
        "# 打擊率\n",
        "a = .083\n",
        "\n",
        "# OPS 計算\n",
        "b = .443 + .455\n",
        "\n",
        "# 如果要一次多行的註解可以使用 ''' 或 \"\"\"\n",
        "\n",
        "\"\"\"\n",
        "這是多行註解\n",
        "註解 1\n",
        "print(a + b)\n",
        "註解 2\n",
        "註解 3\n",
        "\"\"\"\n",
        "\n",
        "b"
      ],
      "metadata": {
        "colab": {
          "base_uri": "https://localhost:8080/"
        },
        "id": "22cBfQsg8G-1",
        "outputId": "3a75199b-c569-438a-874c-fbeabf34f447"
      },
      "execution_count": null,
      "outputs": [
        {
          "output_type": "execute_result",
          "data": {
            "text/plain": [
              "0.898"
            ]
          },
          "metadata": {},
          "execution_count": 9
        }
      ]
    },
    {
      "cell_type": "markdown",
      "source": [
        "### 良好的變數命名\n",
        "\n",
        "大家可以發現我剛剛都只有用簡單的 `a` 跟 `b` 等英文字母當變數名稱，這樣在之後很容易忘記他代表的意義，總不能每次遇到就註解一次，所以良好的命名就會很重要，也可以藉此減少註解的使用，讓註解使用在更重要的地方。\n",
        "\n",
        "通常我們變數的命名會希望是有意義的命名，像是打擊率我們就可以使用 `avg` 來表示，如果是超過一個單字能表達的變數，在 Python 我們會習慣用 `snake_case` 來表達，就是會使用底線來分開每個單字，例如像是富邦的總教練，我們就可以命名像是這樣 `fubon_head_coach`"
      ],
      "metadata": {
        "id": "zK4DIBG394Gl"
      }
    },
    {
      "cell_type": "code",
      "source": [
        "# BAD - 意義不明的變數名稱，有可能是防禦率?也有可能是 K/9 值\n",
        "a = 5.24\n",
        "\n",
        "# GOOD - 容易理解的命名，也方便我們做之後的運算\n",
        "obp = .394\n",
        "slg = .520\n",
        "ops = obp + slg\n",
        "\n",
        "# 更長的命名會用 snake_case\n",
        "fubon_head_coach = \"陳金鋒\"\n",
        "\n",
        "print(fubon_head_coach)\n",
        "ops"
      ],
      "metadata": {
        "colab": {
          "base_uri": "https://localhost:8080/"
        },
        "id": "EADBHb-g9Mgw",
        "outputId": "d221520b-1348-484c-dcde-e5a11b9aaa9b"
      },
      "execution_count": null,
      "outputs": [
        {
          "output_type": "stream",
          "name": "stdout",
          "text": [
            "陳金鋒\n"
          ]
        },
        {
          "output_type": "execute_result",
          "data": {
            "text/plain": [
              "0.914"
            ]
          },
          "metadata": {},
          "execution_count": 10
        }
      ]
    },
    {
      "cell_type": "code",
      "source": [],
      "metadata": {
        "id": "W5bcmljp-AA3"
      },
      "execution_count": null,
      "outputs": []
    }
  ]
}